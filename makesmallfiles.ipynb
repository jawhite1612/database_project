{
 "cells": [
  {
   "cell_type": "code",
   "execution_count": 23,
   "metadata": {},
   "outputs": [],
   "source": [
    "import csv\n",
    "import glob\n",
    "import os\n",
    "import pandas as pd\n",
    "\n",
    "list_of_files = glob.glob('relations/*.csv')"
   ]
  },
  {
   "cell_type": "code",
   "execution_count": 25,
   "metadata": {},
   "outputs": [
    {
     "name": "stdout",
     "output_type": "stream",
     "text": [
      "relations/Housing.csv\n",
      "relations/Education.csv\n",
      "relations/Election.csv\n",
      "relations/People.csv\n",
      "relations/Socioeconomic.csv\n",
      "relations/Candidate.csv\n",
      "relations/Districts.csv\n",
      "relations/Workers.csv\n"
     ]
    },
    {
     "name": "stderr",
     "output_type": "stream",
     "text": [
      "b'Skipping line 2892: expected 7 fields, saw 8\\nSkipping line 2902: expected 7 fields, saw 8\\nSkipping line 2907: expected 7 fields, saw 8\\nSkipping line 3044: expected 7 fields, saw 8\\nSkipping line 3126: expected 7 fields, saw 8\\nSkipping line 3181: expected 7 fields, saw 8\\nSkipping line 3190: expected 7 fields, saw 8\\nSkipping line 3191: expected 7 fields, saw 8\\nSkipping line 3197: expected 7 fields, saw 8\\nSkipping line 3199: expected 7 fields, saw 8\\nSkipping line 3205: expected 7 fields, saw 8\\nSkipping line 3212: expected 7 fields, saw 8\\nSkipping line 3213: expected 7 fields, saw 8\\nSkipping line 3214: expected 7 fields, saw 8\\nSkipping line 3215: expected 7 fields, saw 8\\nSkipping line 3216: expected 7 fields, saw 8\\nSkipping line 3217: expected 7 fields, saw 8\\nSkipping line 3218: expected 7 fields, saw 8\\nSkipping line 3219: expected 7 fields, saw 8\\nSkipping line 3220: expected 7 fields, saw 8\\nSkipping line 3221: expected 7 fields, saw 8\\nSkipping line 3222: expected 7 fields, saw 8\\nSkipping line 3223: expected 7 fields, saw 8\\nSkipping line 3224: expected 7 fields, saw 8\\nSkipping line 3225: expected 7 fields, saw 8\\nSkipping line 3247: expected 7 fields, saw 8\\nSkipping line 3276: expected 7 fields, saw 8\\nSkipping line 3284: expected 7 fields, saw 8\\nSkipping line 3285: expected 7 fields, saw 8\\nSkipping line 3286: expected 7 fields, saw 8\\nSkipping line 3297: expected 7 fields, saw 8\\nSkipping line 3332: expected 7 fields, saw 8\\nSkipping line 3339: expected 7 fields, saw 8\\nSkipping line 3341: expected 7 fields, saw 8\\nSkipping line 3342: expected 7 fields, saw 8\\nSkipping line 3348: expected 7 fields, saw 8\\nSkipping line 3349: expected 7 fields, saw 8\\nSkipping line 3360: expected 7 fields, saw 8\\nSkipping line 3370: expected 7 fields, saw 8\\nSkipping line 3371: expected 7 fields, saw 8\\nSkipping line 3378: expected 7 fields, saw 8\\nSkipping line 3384: expected 7 fields, saw 8\\nSkipping line 3385: expected 7 fields, saw 8\\nSkipping line 3386: expected 7 fields, saw 8\\nSkipping line 3387: expected 7 fields, saw 8\\nSkipping line 3394: expected 7 fields, saw 8\\nSkipping line 3395: expected 7 fields, saw 8\\nSkipping line 3419: expected 7 fields, saw 8\\nSkipping line 3443: expected 7 fields, saw 8\\nSkipping line 3450: expected 7 fields, saw 8\\nSkipping line 3469: expected 7 fields, saw 8\\nSkipping line 3476: expected 7 fields, saw 8\\nSkipping line 3478: expected 7 fields, saw 8\\nSkipping line 3491: expected 7 fields, saw 8\\nSkipping line 3492: expected 7 fields, saw 8\\nSkipping line 3505: expected 7 fields, saw 8\\nSkipping line 3506: expected 7 fields, saw 8\\n'\n"
     ]
    }
   ],
   "source": [
    "for file in list_of_files:\n",
    "    print(file)\n",
    "    df = pd.read_csv(file, index_col = 0, error_bad_lines=False)\n",
    "    df = df.head(15)\n",
    "    df.to_csv('relations-small/' + file[10:-4] + '-small.txt')"
   ]
  },
  {
   "cell_type": "code",
   "execution_count": null,
   "metadata": {},
   "outputs": [],
   "source": []
  }
 ],
 "metadata": {
  "kernelspec": {
   "display_name": "Python 3",
   "language": "python",
   "name": "python3"
  },
  "language_info": {
   "codemirror_mode": {
    "name": "ipython",
    "version": 3
   },
   "file_extension": ".py",
   "mimetype": "text/x-python",
   "name": "python",
   "nbconvert_exporter": "python",
   "pygments_lexer": "ipython3",
   "version": "3.6.4"
  }
 },
 "nbformat": 4,
 "nbformat_minor": 2
}
