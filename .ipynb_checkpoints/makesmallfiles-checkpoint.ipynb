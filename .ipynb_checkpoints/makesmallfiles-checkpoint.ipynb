{
 "cells": [
  {
   "cell_type": "code",
   "execution_count": 5,
   "metadata": {},
   "outputs": [
    {
     "data": {
      "text/plain": [
       "['relations/Housing.csv',\n",
       " 'relations/Education.csv',\n",
       " 'relations/Election.csv',\n",
       " 'relations/People.csv',\n",
       " 'relations/Socioeconomic.csv']"
      ]
     },
     "execution_count": 5,
     "metadata": {},
     "output_type": "execute_result"
    }
   ],
   "source": [
    "import csv\n",
    "import glob\n",
    "import os\n",
    "import pandas as pd\n",
    "\n",
    "list_of_files = glob.glob('relations/*.csv')\n",
    "list_of_files = list_of_files[:5]\n",
    "list_of_files"
   ]
  },
  {
   "cell_type": "code",
   "execution_count": 6,
   "metadata": {},
   "outputs": [
    {
     "name": "stdout",
     "output_type": "stream",
     "text": [
      "relations/Housing.csv\n",
      "relations/Education.csv\n",
      "relations/Election.csv\n",
      "relations/People.csv\n",
      "relations/Socioeconomic.csv\n"
     ]
    }
   ],
   "source": [
    "for file in list_of_files:\n",
    "    print(file)\n",
    "    df = pd.read_csv(file, index_col = 0, error_bad_lines=False)\n",
    "    df = df.head(15)\n",
    "    df.to_csv('relations-small/' + file[10:-4] + '-small.txt')"
   ]
  },
  {
   "cell_type": "code",
   "execution_count": null,
   "metadata": {},
   "outputs": [],
   "source": []
  }
 ],
 "metadata": {
  "kernelspec": {
   "display_name": "Python 3",
   "language": "python",
   "name": "python3"
  },
  "language_info": {
   "codemirror_mode": {
    "name": "ipython",
    "version": 3
   },
   "file_extension": ".py",
   "mimetype": "text/x-python",
   "name": "python",
   "nbconvert_exporter": "python",
   "pygments_lexer": "ipython3",
   "version": "3.6.4"
  }
 },
 "nbformat": 4,
 "nbformat_minor": 2
}
